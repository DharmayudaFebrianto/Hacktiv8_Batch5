{
 "cells": [
  {
   "cell_type": "markdown",
   "metadata": {},
   "source": [
    "# Sesi 3 - Function, Basic Module, and Package"
   ]
  },
  {
   "cell_type": "markdown",
   "metadata": {},
   "source": [
    "## Python Function\n",
    "Function adalah blok kode yang terorganisir dan dapat digunakan kembali, yang digunakan untuk melakukan satu tindakan terkait. Functions menyediakan modularitas yang lebih baik untuk aplikasi kalian dan code reusing yang tinggi.\n",
    "\n",
    "Seperti yang sudah kelian ketahui, Python memberi kalian banyak built-in functions seperti print(), dll. Tetapi kalian juga dapat membuat function sendiri. Fungsi-fungsi ini disebut user-defined functions.\n",
    "\n",
    "### Defining a Function\n",
    "Kalian dapat membuat functions untuk menyediakan fungsionalitas yang diperlukan. Berikut adalah aturan sederhana untuk mendefinisikan functions dengan Python.\n",
    "\n",
    "Function blocks dimulai dengan keyword def diikuti dengan nama fungsi dan tanda kurung (()).\n",
    "\n",
    "Parameter atau argumen masukan apa pun harus ditempatkan di dalam tanda kurung ini. Kalian juga dapat menentukan parameter di dalam tanda kurung ini.\n",
    "\n",
    "Statement awal dari suatu fungsi dapat berupa optional statement - dokumentasi dari fungsi atau docstring.\n",
    "\n",
    "Blok kode dalam setiap function dimulai dengan titik dua (:) dan diberi indentasi.\n",
    "\n",
    "Statement return [expression] menyebabkan kita keluar dari suatu fungsi, dan secara opsional meneruskan ekspresi ke pemanggil. Pernyataan return tanpa argumen sama dengan return None."
   ]
  },
  {
   "cell_type": "code",
   "execution_count": 1,
   "metadata": {},
   "outputs": [],
   "source": [
    "def function_name(parameters):\n",
    "    \"Docstring\"\n",
    "    statement(s)"
   ]
  },
  {
   "cell_type": "markdown",
   "metadata": {},
   "source": [
    "Secara default, parameter memiliki positional behavior dan kalian perlu menginformasikannya dalam urutan yang sama seperti ketika dibuat.\n",
    "\n",
    "String pertama setelah header fungsi disebut docstring dan merupakan kependekan dari documentation string. Digunakan untuk menjelaskan secara singkat, apa tujuan dari function kalian.\n",
    "\n",
    "Meskipun opsional, dokumentasi adalah praktik pemrograman yang baik. Kecuali kalian dapat mengingat apa yang kalian makan untuk makan malam minggu lalu, selalu dokumentasikan kode kalian.\n",
    "\n",
    "Dalam contoh di atas, kita memiliki docstring tepat di bawah header fungsi. KIta biasanya menggunakan tanda kutip tiga sehingga docstring dapat diperpanjang hingga beberapa baris. String ini tersedia bagi kita sebagai atribut doc dari fungsi tersebut."
   ]
  },
  {
   "cell_type": "code",
   "execution_count": 14,
   "metadata": {},
   "outputs": [],
   "source": [
    "def my_function(p, l):\n",
    "    \"Function untuk mengitung luas\"\n",
    "    print(p * l)"
   ]
  },
  {
   "cell_type": "code",
   "execution_count": 15,
   "metadata": {},
   "outputs": [
    {
     "name": "stdout",
     "output_type": "stream",
     "text": [
      "8\n"
     ]
    }
   ],
   "source": [
    "my_function(2,4)"
   ]
  },
  {
   "cell_type": "code",
   "execution_count": 16,
   "metadata": {},
   "outputs": [],
   "source": [
    "def printme(str):\n",
    "    \"this prints a passed string into this function\"\n",
    "    print(str)\n",
    "    return"
   ]
  },
  {
   "cell_type": "markdown",
   "metadata": {},
   "source": [
    "### Calling a Function\n",
    "Mendefinisikan function hanya memberinya nama, menentukan parameter yang akan disertakan dalam fungsi dan menyusun blok kode.\n",
    "\n",
    "Setelah struktur dasar suatu function diselesaikan, kalian dapat menjalankannya dengan memanggilnya dari fungsi lain atau langsung dari prompt Python. Berikut adalah contoh untuk memanggil fungsi printme() :"
   ]
  },
  {
   "cell_type": "code",
   "execution_count": 17,
   "metadata": {},
   "outputs": [
    {
     "name": "stdout",
     "output_type": "stream",
     "text": [
      "I'm first call to user defined function!\n",
      "Again second call to the same function\n"
     ]
    }
   ],
   "source": [
    "# Function definition is here\n",
    "def printme(str):\n",
    "    \"this prints a passed string into this function\"\n",
    "    print(str)\n",
    "    return;\n",
    "\n",
    "# Now you can call printme function\n",
    "printme(\"I'm first call to user defined function!\")\n",
    "printme(\"Again second call to the same function\")"
   ]
  },
  {
   "cell_type": "markdown",
   "metadata": {},
   "source": [
    "#### Pass by reference vs value\n",
    "Semua parameter (arguments) dalam Python di-passed by reference. Artinya jika kalian mengubah apa yang dirujuk oleh parameter dalam suatu fungsi, perubahan tersebut juga kembali fungsi pemanggil. Sebagai contoh:"
   ]
  },
  {
   "cell_type": "code",
   "execution_count": 18,
   "metadata": {},
   "outputs": [
    {
     "name": "stdout",
     "output_type": "stream",
     "text": [
      "Values inside the function:  [10, 20, 30, [1, 2, 3, 4]]\n",
      "Values outside the function:  [10, 20, 30, [1, 2, 3, 4]]\n"
     ]
    }
   ],
   "source": [
    "\n",
    "# Function definition is here\n",
    "def changeme( mylist ):\n",
    "   \"This changes a passed list into this function\"\n",
    "   mylist.append([1,2,3,4]);\n",
    "   print(\"Values inside the function: \", mylist)\n",
    "   return\n",
    "\n",
    "# Now you can call changeme function\n",
    "mylist = [10,20,30];\n",
    "changeme( mylist );\n",
    "print(\"Values outside the function: \", mylist)"
   ]
  },
  {
   "cell_type": "markdown",
   "metadata": {},
   "source": [
    "Ada satu contoh lagi di mana argumen diteruskan oleh reference dan reference kemudian dioverwritte di dalam fungsi yang dipanggil."
   ]
  },
  {
   "cell_type": "code",
   "execution_count": 19,
   "metadata": {},
   "outputs": [
    {
     "name": "stdout",
     "output_type": "stream",
     "text": [
      "Values inside the Function: [1, 2, 3, 4]\n",
      "Values outside the function [10, 20, 30]\n"
     ]
    }
   ],
   "source": [
    "# Function definition is here\n",
    "def changeme(mylist):\n",
    "    \"This changes a passed list into this function\"\n",
    "    mylist = [1,2,3,4]; #this would assig new reference in mylist\n",
    "    print(\"Values inside the Function:\", mylist)\n",
    "    return\n",
    "\n",
    "# Now you can call changeme function\n",
    "mylist = [10,20,30];\n",
    "changeme(mylist);\n",
    "print(\"Values outside the function\", mylist)"
   ]
  },
  {
   "cell_type": "markdown",
   "metadata": {},
   "source": [
    "#### Function Arguments\n",
    "Kalian bisa memanggil suatu fungsi dengan menggunakan tipe argumen berikut\n",
    "\n",
    "* Required arguments\n",
    "* Keyword arguments\n",
    "* Default arguments\n",
    "* Variable-length arguments\n",
    "\n",
    "**Required arguments**\n",
    "\n",
    "Required arguments adalah argumen yang diteruskan ke suatu fungsi dalam urutan posisi yang benar. Di sini, jumlah argumen dalam pemanggilan fungsi harus sama persis dengan function definition.\n",
    "\n",
    "Untuk memanggil fungsi printme(), kalian pasti perlu memberikan satu argumen, jika tidak maka akan terjadi error sebagai berikut:"
   ]
  },
  {
   "cell_type": "code",
   "execution_count": 23,
   "metadata": {},
   "outputs": [
    {
     "ename": "TypeError",
     "evalue": "printme() missing 1 required positional argument: 'str'",
     "output_type": "error",
     "traceback": [
      "\u001b[1;31m---------------------------------------------------------------------------\u001b[0m",
      "\u001b[1;31mTypeError\u001b[0m                                 Traceback (most recent call last)",
      "\u001b[1;32m~\\AppData\\Local\\Temp\\ipykernel_14964\\2653366682.py\u001b[0m in \u001b[0;36m<module>\u001b[1;34m\u001b[0m\n\u001b[0;32m      6\u001b[0m \u001b[1;33m\u001b[0m\u001b[0m\n\u001b[0;32m      7\u001b[0m \u001b[1;31m# Now you can call printme function\u001b[0m\u001b[1;33m\u001b[0m\u001b[1;33m\u001b[0m\u001b[0m\n\u001b[1;32m----> 8\u001b[1;33m \u001b[0mprintme\u001b[0m\u001b[1;33m(\u001b[0m\u001b[1;33m)\u001b[0m\u001b[1;33m\u001b[0m\u001b[1;33m\u001b[0m\u001b[0m\n\u001b[0m",
      "\u001b[1;31mTypeError\u001b[0m: printme() missing 1 required positional argument: 'str'"
     ]
    }
   ],
   "source": [
    "#Function Definition is here\n",
    "def printme(str):\n",
    "    \"This prints a passed string into this function\"\n",
    "    print(str)\n",
    "    return;\n",
    "\n",
    "# Now you can call printme function\n",
    "printme()"
   ]
  },
  {
   "cell_type": "markdown",
   "metadata": {},
   "source": [
    "**Keyword arguments**\n",
    "\n",
    "Keyword arguments berkaitan dengan pemanggilan fungsi. Saat kalian menggunakan Keyword arguments dalam memanggil fungsi, pemanggil mengidentifikasi argumen dengan nama parameter.\n",
    "\n",
    "Hal ini memungkinkan kalian untuk melewati argumen atau menempatkannya tidak berurutan karena interpreter Python dapat menggunakan kata kunci yang disediakan untuk mencocokkan nilai dengan parameter. Kalian juga dapat membuat panggilan kata kunci ke fungsi printme() dengan cara berikut:"
   ]
  },
  {
   "cell_type": "code",
   "execution_count": 29,
   "metadata": {},
   "outputs": [
    {
     "name": "stdout",
     "output_type": "stream",
     "text": [
      "Hacktiv8\n"
     ]
    }
   ],
   "source": [
    "#Function Definition is here\n",
    "def printme(str):\n",
    "    \"This prints a passed string into this function\"\n",
    "    print(str)\n",
    "    return;\n",
    "\n",
    "# Now you can call printme function\n",
    "printme(str = \"Hacktiv8\")"
   ]
  },
  {
   "cell_type": "markdown",
   "metadata": {},
   "source": [
    "Contoh berikut memberikan gambaran yang lebih jelas. Perhatikan bahwa urutan parameter tidak menjadi masalah."
   ]
  },
  {
   "cell_type": "code",
   "execution_count": 30,
   "metadata": {},
   "outputs": [
    {
     "name": "stdout",
     "output_type": "stream",
     "text": [
      "Name a\n",
      "Age 4\n"
     ]
    }
   ],
   "source": [
    "#Function Definition is here\n",
    "def printinfo(name, age):\n",
    "    \"This prints a passed string into this function\"\n",
    "    print(\"Name:\", name)\n",
    "    print(\"Age:\", age)\n",
    "    return;\n",
    "\n",
    "# Now you can call printme function\n",
    "printinfo(age = 4, name = \"a\")"
   ]
  },
  {
   "cell_type": "markdown",
   "metadata": {},
   "source": [
    "### Default Arguments\n",
    "Default argument adalah argumen yang mengasumsikan nilai default jika nilai tidak disediakan dalam pemanggilan fungsi untuk argumen tersebut. Contoh berikut memberikan gambaran tentang Default argument, dia akan mencetak usia default jika tidak diberikan nilai apapun."
   ]
  },
  {
   "cell_type": "code",
   "execution_count": 31,
   "metadata": {},
   "outputs": [
    {
     "name": "stdout",
     "output_type": "stream",
     "text": [
      "Name:  Hacktiv8\n",
      "Age:  50\n",
      "Name:  hacktiv\n",
      "Age:  26\n"
     ]
    }
   ],
   "source": [
    "def printinfo(name, age = 26):\n",
    "    \"this prints a passed info into this function\"\n",
    "    print(\"Name: \", name)\n",
    "    print(\"Age: \", age)\n",
    "    return;\n",
    "\n",
    "# Now you can call printinfo function\n",
    "printinfo( age = 50, name = \"Hacktiv8\" )\n",
    "printinfo( name = \"hacktiv\")"
   ]
  },
  {
   "cell_type": "markdown",
   "metadata": {},
   "source": [
    "**Variable-length arguments**\n",
    "\n",
    "Kalian mungkin perlu memproses suatu fungsi untuk menerima lebih banyak argumen daripada yang kalian tentukan saat mendefinisikan fungsi. Argumen ini disebut variable-length arguments dan tidak diberi nama ketika definisi fungsi, tidak seperti required dan default arguments.\n",
    "\n",
    "Sintaks untuk fungsi dengan non-keyword variable arguments adalah sebagai berikut:"
   ]
  },
  {
   "cell_type": "code",
   "execution_count": null,
   "metadata": {},
   "outputs": [],
   "source": [
    "def functionname([formal_args,] *var_args_tuple):\n",
    "    \"function_docstring\"\n",
    "    function_suite\n",
    "    return[expression]"
   ]
  },
  {
   "cell_type": "markdown",
   "metadata": {},
   "source": [
    "Tanda bintang (*) ditempatkan sebelum nama variabel yang menyimpan nilai dari semua nonkeyword variable arguments. Tuple tersebut tetap kosong jika tidak ada argumen tambahan yang ditentukan selama pemanggilan fungsi. Berikut adalah contoh sederhana:\n",
    "\n"
   ]
  },
  {
   "cell_type": "code",
   "execution_count": 1,
   "metadata": {},
   "outputs": [
    {
     "name": "stdout",
     "output_type": "stream",
     "text": [
      "Output is: \n",
      "10\n",
      "Output is: \n",
      "70\n",
      "60\n",
      "50\n",
      "a\n"
     ]
    }
   ],
   "source": [
    "# Function defintion is here\n",
    "def printinfo(arg1, *vartuple):\n",
    "    print(\"Output is: \")\n",
    "    print(arg1)\n",
    "    for var in vartuple:\n",
    "        print(var)\n",
    "    return;\n",
    "\n",
    "#Now you can call printinfo function\n",
    "printinfo( 10 )\n",
    "printinfo( 70, 60, 50, \"a\" )"
   ]
  },
  {
   "cell_type": "markdown",
   "metadata": {},
   "source": [
    "### The Anonymous Functions\n",
    "Functions ini disebut anonymous karena tidak dideklarasikan dengan cara standar dengan menggunakan keyword def. Kalian dapat menggunakan keyword lambda untuk membuat anonymous functions.\n",
    "\n",
    "* Lambda dapat mengambil berapapun argumen tetapi hanya mengembalikan satu nilai dalam bentuk expression. Lambda tidak boleh berisi commands atau multiple expressions.\n",
    "* Anonymous function tidak bisa dipanggil langsung melalui print karena lambda memerlukan expression\n",
    "* Lambda functions memiliki namespace local sendiri dan tidak dapat mengakses variabel selain yang ada di daftar parameternya dan yang ada di namespace global.\n",
    "\n",
    "Syntax dari lambda functions mengandung hanya single statement, seperti dibawah ini:\n",
    "\n",
    "lambda [arg1 [,arg2,.....argn]]:expression\n",
    "\n",
    "Berikut adalah contoh untuk menunjukkan cara kerja bentuk fungsi lambda:"
   ]
  },
  {
   "cell_type": "code",
   "execution_count": 3,
   "metadata": {},
   "outputs": [
    {
     "name": "stdout",
     "output_type": "stream",
     "text": [
      "Value of total :  None\n",
      "Value of total :  None\n"
     ]
    }
   ],
   "source": [
    "# Function definition is here\n",
    "sum = lambda arg1, arg2: arg1 + arg2;\n",
    "\n",
    "def sum(arg1, arg2):\n",
    "    arg1 + arg2\n",
    "    \n",
    "# Now you can call sum as a function\n",
    "print(\"Value of total : \", sum( 10, 20 ))\n",
    "print(\"Value of total : \", sum( 20, 20 ))"
   ]
  },
  {
   "cell_type": "markdown",
   "metadata": {},
   "source": [
    "### The return Statement\n",
    "Statement return [expression] menyebabkan kita keluar dari suatu fungsi, dan secara opsional meneruskan ekspresi ke pemanggil. Pernyataan return tanpa argumen sama dengan return None.\n",
    "\n",
    "Semua contoh di atas tidak mengembalikan nilai apa pun. Kalian dapat mengembalikan nilai dari fungsi sebagai berikut:"
   ]
  },
  {
   "cell_type": "code",
   "execution_count": 4,
   "metadata": {},
   "outputs": [
    {
     "name": "stdout",
     "output_type": "stream",
     "text": [
      "inside the function:  30\n",
      "Outside the function :  40\n"
     ]
    }
   ],
   "source": [
    "# Function definition is here\n",
    "def sum (arg1, arg2):\n",
    "    # Add both the parameters and return them,\n",
    "    total = arg1 +arg2\n",
    "    total2 = total + arg1\n",
    "    print(\"inside the function: \", total)\n",
    "    return total2\n",
    "\n",
    "# Now you can call sum function\n",
    "total = sum(10,20)\n",
    "print(\"Outside the function : \", total)"
   ]
  },
  {
   "cell_type": "markdown",
   "metadata": {},
   "source": [
    "### Scope of Variables\n",
    "Semua variabel dalam program mungkin tidak dapat diakses di semua lokasi dalam program tersebut. Tergantung di mana kalian mendeklarasikan variabel.\n",
    "\n",
    "Scope of a variable menentukan aturan apakah program ditempat kalian dapat mengakses identifier tertentu. Ada dua cakupan dasar variabel di Python\n",
    "\n",
    "* Global variables\n",
    "* Local variables\n",
    "\n",
    "**Global vs. Local variables**\n",
    "\n",
    "Variabel yang didefinisikan  di dalam badan fungsi adalah local scope, dan variabel yang ditentukan di luar alah global scope.\n",
    "\n",
    "Ini berarti bahwa variabel lokal hanya dapat diakses di dalam fungsi yang dideklarasikan, sedangkan variabel global dapat diakses di seluruh badan program oleh semua fungsi. Saat kalian memanggil sebuah fungsi, variabel yang dideklarasikan di dalamnya akan dimasukkan ke dalam scopenya. Berikut adalah contoh sederhana:"
   ]
  },
  {
   "cell_type": "code",
   "execution_count": 13,
   "metadata": {},
   "outputs": [
    {
     "name": "stdout",
     "output_type": "stream",
     "text": [
      "Outside the function global total :  0\n"
     ]
    }
   ],
   "source": [
    "total = 0; \n",
    "\n",
    "def sum( arg1, arg2 ):\n",
    "\n",
    "   total = arg1 + arg2; \n",
    "   print(\"Inside the function local total : \", total)\n",
    "   return total;\n",
    "\n",
    "def min():\n",
    "    \n",
    "\n",
    "    sum( 10, 20 );\n",
    "print(\"Outside the function global total : \", total)"
   ]
  },
  {
   "cell_type": "code",
   "execution_count": 14,
   "metadata": {},
   "outputs": [
    {
     "data": {
      "text/plain": [
       "40"
      ]
     },
     "execution_count": 14,
     "metadata": {},
     "output_type": "execute_result"
    }
   ],
   "source": [
    "jumlahKucing = 20\n",
    "\n",
    "def jumlahHewan():\n",
    "    jumlahAnjing = 30\n",
    "    return jumlahKucing + jumlahAnjing\n",
    "\n",
    "def jumlahKelinci():\n",
    "    return jumlahKucing + jumlahKucing\n",
    "\n",
    "jumlahHewan()\n",
    "jumlahKelinci()"
   ]
  },
  {
   "cell_type": "markdown",
   "metadata": {},
   "source": [
    "Bagian ini membahas Python modules dan Python packages, dua mekanisme yang memfasilitasi pemrograman modular/modular programming.\n",
    "\n",
    "Pemrograman modular mengacu pada proses pemecahan tugas pemrograman yang besar dan berat menjadi subtugas atau modul yang terpisah, lebih kecil, dan lebih mudah dikelola. Modul individu kemudian dapat digabungkan seperti blok bangunan untuk membuat aplikasi yang lebih besar.\n",
    "\n",
    "Ada beberapa keuntungan memodularisasi kode dalam aplikasi besar:\n",
    "\n",
    "* Simplicity: Daripada berfokus pada keseluruhan masalah yang dihadapi, modul biasanya berfokus pada satu bagian masalah yang relatif kecil. Jika kalian mengerjakan satu modul, kalian akan memiliki domain masalah yang lebih kecil untuk dipahami. Ini membuat development lebih mudah dan less error.\n",
    "\n",
    "* Maintainability: Modul biasanya dirancang sedemikian rupa sehingga menerapkan logical boundaries antara domain masalah yang berbeda. Jika modul ditulis dengan cara yang meminimalkan ketergantungan, ada kemungkinan kecil bahwa modifikasi pada satu modul akan berdampak pada bagian lain dari program. (Kalian bahkan dapat membuat perubahan pada modul tanpa memiliki knowledge apa pun tentang aplikasi di luar modul tersebut.) Hal ini membuat modul lebih cocok bagi tim yang terdiri dari banyak programmer untuk bekerja secara kolaboratif pada aplikasi besar.\n",
    "\n",
    "* Reusability: Fungsi yang didefinisikan dalam satu modul dapat dengan mudah digunakan kembali/reused oleh bagian lain dari aplikasi. Hal ini menghilangkan kebutuhan untuk membuat duplicate code.\n",
    "\n",
    "* Scoping: Modul biasanya mendefinisikan namespace secara  terpisah, yang membantu menghindari tabrakan antara identifiers di berbagai area program.\n",
    "\n",
    "## Python Modules: Overview\n",
    "Ada tiga cara berbeda untuk mendefinisikan module dengan Python:\n",
    "\n",
    "* Module dapat ditulis dengan bahasa Python itu sendiri.\n",
    "* Module dapat ditulis dalam C dan di-load secara dinamis pada saat run-time, seperti modul re (ekspresi reguler).\n",
    "* Built-in module secara intrinsik terdapat dalam interpreter, seperti modul itertools.\n",
    "Isi modul diakses dengan cara yang sama dalam ketiga kasus diatas: dengan import statement.\n",
    "\n",
    "Di sini, fokusnya sebagian besar ada pada modul yang ditulis dengan Python. Hal yang menguntungkan tentang modul yang ditulis dengan Python adalah module sangat mudah dibuat. Yang perlu kalian lakukan adalah membuat file yang berisi kode Python dan kemudian memberi nama file dengan ekstensi .py.\n",
    "\n",
    "Misalnya, kalian buat sebuah file bernama mod.py dengan isi sebagai berikut:"
   ]
  },
  {
   "cell_type": "code",
   "execution_count": 15,
   "metadata": {},
   "outputs": [],
   "source": [
    "s = \"Hacktiv8-PTP Python For Data Science\"\n",
    "a = [100,200,300]\n",
    "\n",
    "def foo(arg):\n",
    "    print(f'arg = {arg}')\n",
    "\n",
    "class Foo:\n",
    "    pass"
   ]
  },
  {
   "cell_type": "markdown",
   "metadata": {},
   "source": [
    "Beberapa objek didefinisikan di mod.py:\n",
    "\n",
    "* s (a string)\n",
    "* a (a list)\n",
    "* foo() (a function)\n",
    "* Foo (a class)\n",
    "\n",
    "Dengan asumsi mod.py berada di lokasi yang sesuai, yang akan segera kalian pelajari lebih lanjut, objek ini dapat diakses dengan mengimpor modul dengan cara sebagai berikut:"
   ]
  },
  {
   "cell_type": "code",
   "execution_count": 18,
   "metadata": {},
   "outputs": [
    {
     "ename": "SyntaxError",
     "evalue": "invalid syntax (1278486794.py, line 3)",
     "output_type": "error",
     "traceback": [
      "\u001b[1;36m  File \u001b[1;32m\"C:\\Users\\dharm\\AppData\\Local\\Temp\\ipykernel_14424\\1278486794.py\"\u001b[1;36m, line \u001b[1;32m3\u001b[0m\n\u001b[1;33m    Hacktiv8-PTP Python For Data Science\u001b[0m\n\u001b[1;37m                 ^\u001b[0m\n\u001b[1;31mSyntaxError\u001b[0m\u001b[1;31m:\u001b[0m invalid syntax\n"
     ]
    }
   ],
   "source": [
    ">>> import mod\n",
    ">>> print(mod.s)\n",
    "Hacktiv8-PTP Python For Data Science\n",
    ">>> mod.a\n",
    "[100, 200, 300]\n",
    ">>> mod.foo(['quux', 'corge', 'grault'])\n",
    "arg = ['quux', 'corge', 'grault']\n",
    ">>> x = mod.Foo()\n",
    ">>> x\n",
    "<mod.Foo object at 0x03C181F0>"
   ]
  },
  {
   "cell_type": "markdown",
   "metadata": {},
   "source": [
    "### Moduling Python"
   ]
  },
  {
   "cell_type": "code",
   "execution_count": 1,
   "metadata": {},
   "outputs": [],
   "source": [
    "s = \"Hacktiv8-PTP Python For Data Science\"\n",
    "a = [100, 200, 300]\n",
    "\n",
    "def foo(arg):\n",
    "    print(f'arg = {arg}')\n",
    "\n",
    "class Foo:\n",
    "    pass"
   ]
  },
  {
   "cell_type": "code",
   "execution_count": 2,
   "metadata": {},
   "outputs": [
    {
     "name": "stdout",
     "output_type": "stream",
     "text": [
      "Hacktiv8-PTP Python For Data Science\n",
      "[100, 200, 300]\n",
      "arg = quux\n",
      "<__main__.Foo object at 0x0000028F769359A0>\n"
     ]
    }
   ],
   "source": [
    "s = \"Hacktiv8-PTP Python For Data Science\"\n",
    "a = [100, 200, 300]\n",
    "\n",
    "def foo(arg):\n",
    "    print(f'arg = {arg}')\n",
    "\n",
    "class Foo:\n",
    "    pass\n",
    "\n",
    "print(s)\n",
    "print(a)\n",
    "foo('quux')\n",
    "x = Foo()\n",
    "print(x)"
   ]
  },
  {
   "cell_type": "code",
   "execution_count": 3,
   "metadata": {},
   "outputs": [
    {
     "name": "stdout",
     "output_type": "stream",
     "text": [
      "Executing as standalone script\n",
      "Hacktiv8-PTP Python For Data Science\n",
      "[100, 200, 300]\n",
      "arg = quux\n",
      "<__main__.Foo object at 0x0000028F76A16A30>\n"
     ]
    }
   ],
   "source": [
    "s = \"Hacktiv8-PTP Python For Data Science\"\n",
    "a = [100, 200, 300]\n",
    "\n",
    "def foo(arg):\n",
    "    print(f'arg = {arg}')\n",
    "\n",
    "class Foo:\n",
    "    pass\n",
    "\n",
    "if (__name__ == '__main__'):\n",
    "    print('Executing as standalone script')\n",
    "    print(s)\n",
    "    print(a)\n",
    "    foo('quux')\n",
    "    x = Foo()\n",
    "    print(x)"
   ]
  },
  {
   "cell_type": "markdown",
   "metadata": {},
   "source": [
    "Modul sering kali dirancang dengan kemampuan untuk dijalankan sebagai skrip standalone untuk tujuan testing fungsionalitas yang terdapat dalam modul. Hal ini disebut sebagai unit testing. Misalnya, kalian telah membuat modul fact.py berisi factorial function, sebagai berikut:\n",
    "\n",
    "fact.py"
   ]
  },
  {
   "cell_type": "code",
   "execution_count": 4,
   "metadata": {},
   "outputs": [
    {
     "ename": "ValueError",
     "evalue": "invalid literal for int() with base 10: '--ip=127.0.0.1'",
     "output_type": "error",
     "traceback": [
      "\u001b[1;31m---------------------------------------------------------------------------\u001b[0m",
      "\u001b[1;31mValueError\u001b[0m                                Traceback (most recent call last)",
      "\u001b[1;32m~\\AppData\\Local\\Temp\\ipykernel_1928\\3295925818.py\u001b[0m in \u001b[0;36m<module>\u001b[1;34m\u001b[0m\n\u001b[0;32m      5\u001b[0m     \u001b[1;32mimport\u001b[0m \u001b[0msys\u001b[0m\u001b[1;33m\u001b[0m\u001b[1;33m\u001b[0m\u001b[0m\n\u001b[0;32m      6\u001b[0m     \u001b[1;32mif\u001b[0m \u001b[0mlen\u001b[0m\u001b[1;33m(\u001b[0m\u001b[0msys\u001b[0m\u001b[1;33m.\u001b[0m\u001b[0margv\u001b[0m\u001b[1;33m)\u001b[0m \u001b[1;33m>\u001b[0m \u001b[1;36m1\u001b[0m\u001b[1;33m:\u001b[0m\u001b[1;33m\u001b[0m\u001b[1;33m\u001b[0m\u001b[0m\n\u001b[1;32m----> 7\u001b[1;33m         \u001b[0mprint\u001b[0m\u001b[1;33m(\u001b[0m\u001b[0mfact\u001b[0m\u001b[1;33m(\u001b[0m\u001b[0mint\u001b[0m\u001b[1;33m(\u001b[0m\u001b[0msys\u001b[0m\u001b[1;33m.\u001b[0m\u001b[0margv\u001b[0m\u001b[1;33m[\u001b[0m\u001b[1;36m1\u001b[0m\u001b[1;33m]\u001b[0m\u001b[1;33m)\u001b[0m\u001b[1;33m)\u001b[0m\u001b[1;33m)\u001b[0m\u001b[1;33m\u001b[0m\u001b[1;33m\u001b[0m\u001b[0m\n\u001b[0m",
      "\u001b[1;31mValueError\u001b[0m: invalid literal for int() with base 10: '--ip=127.0.0.1'"
     ]
    }
   ],
   "source": [
    "def fact(n):\n",
    "    return 1 if n == 1 else n * fact(n-1)\n",
    "\n",
    "if (__name__ == '__main__'):\n",
    "    import sys\n",
    "    if len(sys.argv) > 1:\n",
    "        print(fact(int(sys.argv[1])))"
   ]
  },
  {
   "cell_type": "markdown",
   "metadata": {},
   "source": [
    "### Reloading a Module\n",
    "Untuk alasan efisiensi, modul hanya dimuat sekali per sesi interpreter. Tidak masalah untuk definisi fungsi dan kelas, yang biasanya merupakan bagian terbesar dari konten modul. Tapi modul juga bisa berisi pernyataan yang dapat dieksekusi, biasanya untuk inisialisasi. Perhatikan bahwa statements hanya akan dijalankan saat pertama kali modul diimpor.\n",
    "\n",
    "Perhatikan file mod.py:"
   ]
  },
  {
   "cell_type": "code",
   "execution_count": 5,
   "metadata": {},
   "outputs": [
    {
     "name": "stdout",
     "output_type": "stream",
     "text": [
      "a = [100, 200, 300]\n"
     ]
    }
   ],
   "source": [
    "a = [100, 200, 300]\n",
    "print('a =', a)"
   ]
  },
  {
   "cell_type": "code",
   "execution_count": null,
   "metadata": {},
   "outputs": [],
   "source": []
  }
 ],
 "metadata": {
  "kernelspec": {
   "display_name": "base",
   "language": "python",
   "name": "python3"
  },
  "language_info": {
   "codemirror_mode": {
    "name": "ipython",
    "version": 3
   },
   "file_extension": ".py",
   "mimetype": "text/x-python",
   "name": "python",
   "nbconvert_exporter": "python",
   "pygments_lexer": "ipython3",
   "version": "3.9.13"
  }
 },
 "nbformat": 4,
 "nbformat_minor": 2
}
