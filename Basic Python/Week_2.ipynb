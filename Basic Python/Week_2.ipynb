{
 "cells": [
  {
   "cell_type": "markdown",
   "metadata": {},
   "source": [
    "# Hacktiv8-PTP Python For Data Science // S.2 // Conditions, Control Flow & Looping\n"
   ]
  },
  {
   "cell_type": "markdown",
   "metadata": {},
   "source": [
    "### Conditional\n",
    "\n",
    "Python mendukung logical conditions yang biasa dipakai dalam matematika:\n",
    "\n",
    "* Equals: a == b\n",
    "* Not Equals: a != b\n",
    "* Less than: a < b\n",
    "* Less than or equal to: a <= b\n",
    "* Greater than: a > b\n",
    "* Greater than or equal to: a >= b\n",
    "* These conditions can be used in several ways, most commonly in \"if statements\" and loops.\n",
    "\n",
    "Sebuah \"if statement\" ditulis dengan menggunakan if keyword.\n",
    "\n",
    "Dalam program Python, if statement adalah bagaimana kalian melakukan decision-making. If Statement memungkinkan eksekusi kondisional dari pernyataan atau kelompok pernyataan berdasarkan nilai ekspresi.\n",
    "\n",
    "#### Introduction to the if Statement\n",
    "Kita akan mulai dengan melihat tipe pernyataan if yang paling dasar. Dalam bentuknya yang paling sederhana, terlihat seperti ini:"
   ]
  },
  {
   "cell_type": "code",
   "execution_count": 1,
   "metadata": {},
   "outputs": [
    {
     "ename": "SyntaxError",
     "evalue": "invalid syntax (3607209062.py, line 1)",
     "output_type": "error",
     "traceback": [
      "\u001b[1;36m  File \u001b[1;32m\"C:\\Users\\dharm\\AppData\\Local\\Temp\\ipykernel_13172\\3607209062.py\"\u001b[1;36m, line \u001b[1;32m1\u001b[0m\n\u001b[1;33m    if <expr>:\u001b[0m\n\u001b[1;37m       ^\u001b[0m\n\u001b[1;31mSyntaxError\u001b[0m\u001b[1;31m:\u001b[0m invalid syntax\n"
     ]
    }
   ],
   "source": [
    "if <expr>:\n",
    "    <statement>"
   ]
  },
  {
   "cell_type": "markdown",
   "metadata": {},
   "source": [
    "Pada bentuk yang ditampilkan diatas:\n",
    "\n",
    "* <expr> is an expression evaluated in Boolean context.\n",
    "* <statement> is a valid Python statement, which must be indented.\n",
    "\n",
    "Jika <expr> benar (mengevaluasi ke nilai \"truthy\"), maka <statement> akan dieksekusi. Jika <expr> salah, maka <statement> dilewati dan tidak dieksekusi.\n",
    "\n",
    "Perhatikan bahwa titik dua (:) setelah <expr> diperlukan. Beberapa bahasa pemrograman mengharuskan <expr> diapit tanda kurung, tetapi Python tidak."
   ]
  },
  {
   "cell_type": "code",
   "execution_count": 1,
   "metadata": {},
   "outputs": [
    {
     "name": "stdout",
     "output_type": "stream",
     "text": [
      "yes\n",
      "yes\n",
      "yes\n"
     ]
    }
   ],
   "source": [
    "x = 0 \n",
    "y = 5\n",
    "\n",
    "if x < y:\n",
    "    print(\"yes\")\n",
    "\n",
    "if y < x:\n",
    "    print(\"yes\")\n",
    "\n",
    "if x:\n",
    "    print(\"yes\")\n",
    "\n",
    "if y:\n",
    "    print(\"yes\")\n",
    "\n",
    "if \"aul\" in \"grault\":\n",
    "    print(\"yes\")\n",
    "\n",
    "if \"quux\" in ['foo', 'bar', 'baz']:\n",
    "    print(\"yes\")"
   ]
  },
  {
   "cell_type": "markdown",
   "metadata": {},
   "source": [
    "#### Grouping Statements: Indentation and Blocks\n",
    "So far, so good.\n",
    "\n",
    "Tetapi katakanlah kalian ingin mengevaluasi suatu kondisi dan kemudian melakukan lebih dari satu hal jika itu benar:\n",
    "\n",
    "If the weather is nice, then I will:\n",
    "\n",
    "* Mow the lawn\n",
    "* Weed the garden\n",
    "* Take the dog for a walk\n",
    "\n",
    "(If the weather isn’t nice, then I won’t do any of these things.)\n",
    "\n",
    "Dalam semua contoh yang ditampilkan di atas, masing-masing jika <expr>: hanya diikuti oleh satu <statement>. Perlu ada cara untuk mengatakan \"Jika <expr> benar, lakukan semua hal berikut\".\n",
    "\n",
    "Pendekatan yang biasa diambil oleh sebagian besar bahasa pemrograman adalah dengan mendefinisikan syntactic device yang mengelompokkan beberapa pernyataan menjadi satu pernyataan atau blok. Sebuah blok dianggap secara sintaksis sebagai satu kesatuan. Ketika blok tersebut adalah target dari if, dan <expr> adalah benar, maka semua pernyataan di blok akan dieksekusi. Jika <expr> salah, maka tidak ada satupun yang dieksekusi.\n",
    "\n",
    "Hampir semua bahasa pemrograman menyediakan kemampuan untuk mendefinisikan blocks, tetapi tidak semuanya menyediakannya dengan cara yang sama. Mari kita lihat bagaimana Python melakukannya.\n",
    "\n",
    "**Python: It’s All About the Indentation**\n",
    "\n",
    "Python mengikuti konvensi yang dikenal sebagai off-side rule, istilah yang diciptakan oleh ilmuwan komputer Inggris Peter J. Landin. (Istilah ini diambil dari offside dalam sepak bola.) Bahasa yang mengikuti off-side rule akan mendefinisikan blok dengan indentasi. Python adalah salah satu dari sekumpulan kecil bahasa off-side rule.\n",
    "\n",
    "Indentasi digunakan untuk mendefinisikan pernyataan atau blok. Dalam program Python, pernyataan yang menjorok ke tingkat yang sama dianggap sebagai bagian dari blok yang sama.\n",
    "\n",
    "Jadi, pernyataan majemuk if dengan Python terlihat seperti ini:"
   ]
  },
  {
   "cell_type": "code",
   "execution_count": null,
   "metadata": {},
   "outputs": [],
   "source": [
    "if <expr>:\n",
    "    <statement>\n",
    "    <statement>\n",
    "    ...\n",
    "    <statement>\n",
    "<following_statement>"
   ]
  },
  {
   "cell_type": "markdown",
   "metadata": {},
   "source": [
    "Di sini, semua pernyataan pada tingkat indentasi yang cocok (baris 2 hingga 5) dianggap sebagai bagian dari blok yang sama. Seluruh blok dijalankan jika <expr> benar, atau dilewati jika <expr> salah. Apa pun itu, eksekusi dilanjutkan dengan <following_statement> (baris 6) sesudahnya."
   ]
  },
  {
   "cell_type": "code",
   "execution_count": 2,
   "metadata": {},
   "outputs": [
    {
     "name": "stdout",
     "output_type": "stream",
     "text": [
      "after conditional\n"
     ]
    }
   ],
   "source": [
    "if 'foo' in ['bar', 'baz', 'qux']:\n",
    "    print('Expression was true')\n",
    "    print('Executing statement in suite')\n",
    "    print('...')\n",
    "    print('done.')\n",
    "\n",
    "print('after conditional')"
   ]
  },
  {
   "cell_type": "code",
   "execution_count": 3,
   "metadata": {},
   "outputs": [
    {
     "name": "stdout",
     "output_type": "stream",
     "text": [
      "Outer condition is true\n",
      "Between inner conditions\n",
      "Inner condition 2\n",
      "End of outer condition\n",
      "After outer condition\n"
     ]
    }
   ],
   "source": [
    "# Does line execute?                        Yes    No\n",
    "#                                           ---    --\n",
    "if 'foo' in ['foo', 'bar', 'baz']:        #  x\n",
    "    print('Outer condition is true')      #  x\n",
    "\n",
    "    if 10 > 20:                           #  x\n",
    "        print('Inner condition 1')        #        x\n",
    "\n",
    "    print('Between inner conditions')     #  x\n",
    "\n",
    "    if 10 < 20:                           #  x\n",
    "        print('Inner condition 2')        #  x\n",
    "\n",
    "    print('End of outer condition')       #  x\n",
    "print('After outer condition')            #  x"
   ]
  },
  {
   "cell_type": "markdown",
   "metadata": {},
   "source": [
    "#### The else and elif Clauses\n",
    "Sekarang kalian tahu cara menggunakan pernyataan if untuk mengeksekusi pernyataan tunggal atau blok dari beberapa statement. Saatnya mencari tahu apa lagi yang bisa kalian lakukan.\n",
    "\n",
    "Terkadang, kalian ingin mengevaluasi suatu kondisi dan mengambil satu jalur jika benar, tetapi menentukan jalur alternatif jika tidak benar. Ini dapat dilakukan dengan klausa else:\n",
    "\n"
   ]
  },
  {
   "cell_type": "code",
   "execution_count": null,
   "metadata": {},
   "outputs": [],
   "source": [
    "if <expr>:\n",
    "    <statement(s)>\n",
    "else:\n",
    "    <statement(s)>"
   ]
  },
  {
   "cell_type": "markdown",
   "metadata": {},
   "source": [
    "Jika <expr> benar, rangkaian pertama dijalankan, dan rangkaian kedua dilewati. Jika salah, rangkaian pertama dilewati dan rangkaian kedua dijalankan. Begitupun sebaliknya, eksekusi kemudian dilanjutkan setelah rangkaian kedua. Kedua suite ditentukan oleh indentasi, seperti dijelaskan di atas.\n",
    "\n",
    "Dalam contoh ini, x kurang dari 50, jadi rangkaian pertama (baris 4 hingga 5) dieksekusi, dan rangkaian kedua (baris 7 hingga 8) dilewati:"
   ]
  },
  {
   "cell_type": "code",
   "execution_count": 6,
   "metadata": {},
   "outputs": [
    {
     "name": "stdout",
     "output_type": "stream",
     "text": [
      "(first suite)\n",
      "x is small\n"
     ]
    }
   ],
   "source": [
    "x = 20 \n",
    "\n",
    "if x < 50:\n",
    "    print('(first suite)')\n",
    "    print('x is small')\n",
    "else:\n",
    "    print('(second suite)')\n",
    "    print('x is large')"
   ]
  },
  {
   "cell_type": "markdown",
   "metadata": {},
   "source": [
    "Di sini, di sisi lain, x lebih besar dari 50, jadi rangkaian pertama dilewatkan, dan rangkaian kedua dieksekusi:"
   ]
  },
  {
   "cell_type": "code",
   "execution_count": 7,
   "metadata": {},
   "outputs": [
    {
     "name": "stdout",
     "output_type": "stream",
     "text": [
      "(second suite)\n",
      "x is large\n"
     ]
    }
   ],
   "source": [
    "x = 120 \n",
    "\n",
    "if x < 50:\n",
    "    print('(first suite)')\n",
    "    print('x is small')\n",
    "else:\n",
    "    print('(second suite)')\n",
    "    print('x is large')"
   ]
  },
  {
   "cell_type": "code",
   "execution_count": 8,
   "metadata": {},
   "outputs": [
    {
     "name": "stdout",
     "output_type": "stream",
     "text": [
      "beli buku\n"
     ]
    }
   ],
   "source": [
    "hargaBuku = 20000\n",
    "hargaMajalah = 5000\n",
    "uang = 2000\n",
    "\n",
    "if uang < hargaBuku:\n",
    "    print('beli buku')\n",
    "else:\n",
    "    print ('uang tidak cukup jangan beli buku dulu')"
   ]
  },
  {
   "cell_type": "markdown",
   "metadata": {},
   "source": [
    "Ada juga sintaks untuk eksekusi percabangan berdasarkan beberapa alternatif. Untuk ini, gunakan satu atau lebih klausa elif (kependekan dari else if). Python mengevaluasi setiap <expr> secara bergantian dan menjalankan suite yang sesuai dengan yang pertama benar. Jika tidak ada ekspresi yang benar, dan klausa else ada disana, rangkaiannya akan dieksekusi:"
   ]
  },
  {
   "cell_type": "code",
   "execution_count": null,
   "metadata": {},
   "outputs": [],
   "source": [
    "if <expr>:\n",
    "    <statement(s)>\n",
    "elif <expr>:\n",
    "    <statement(s)>\n",
    "elif <expr>:\n",
    "    <statement(s)>\n",
    "    ...\n",
    "else:\n",
    "    <statement(s)>"
   ]
  },
  {
   "cell_type": "markdown",
   "metadata": {},
   "source": [
    "Jumlah klausa elif dapat ditentukan berapapun. Klausa else bersifat opsional. Jika ada, hanya boleh ada satu, dan harus ditentukan terakhir:"
   ]
  },
  {
   "cell_type": "code",
   "execution_count": 9,
   "metadata": {},
   "outputs": [
    {
     "name": "stdout",
     "output_type": "stream",
     "text": [
      "uang tidak cukup\n"
     ]
    }
   ],
   "source": [
    "hargaBuku = 20000\n",
    "hargaMajalah = 5000\n",
    "uang = 2000\n",
    "\n",
    "if uang > hargaBuku:\n",
    "    print('beli buku')\n",
    "elif uang > hargaMajalah:\n",
    "    print ('beli majalah')\n",
    "else:\n",
    "    print ('uang tidak cukup')"
   ]
  },
  {
   "cell_type": "code",
   "execution_count": 2,
   "metadata": {},
   "outputs": [
    {
     "name": "stdout",
     "output_type": "stream",
     "text": [
      "HelLo Hacktiv8\n"
     ]
    }
   ],
   "source": [
    "name = \"Hacktiv8\"\n",
    "if name == 'Fred':\n",
    "    print('Hello Fred')\n",
    "elif name == 'Xander':\n",
    "    print('Hello Xander')\n",
    "elif name == 'Hacktiv8':\n",
    "    print('HelLo Hacktiv8')\n",
    "elif name == 'Arnold':\n",
    "    print('Hello Arnold')\n",
    "else:\n",
    "    print(\"I don't Know who you are!\")"
   ]
  },
  {
   "cell_type": "markdown",
   "metadata": {},
   "source": [
    "Pada dasarnya, salah satu blok kode yang ditentukan akan dieksekusi. Jika klausa else tidak disertakan, dan semua kondisinya salah, maka tidak ada blok yang akan dieksekusi.\n",
    "\n",
    "Pernyataan if dengan klausa elif menggunakan short-circuit evaluation, serupa dengan apa yang kalian lihat dengan operator and dan or. Setelah salah satu ekspresi ditemukan benar dan bloknya dijalankan, tidak ada ekspresi yang tersisa yang diuji. Ini ditunjukkan di bawah ini:"
   ]
  },
  {
   "cell_type": "code",
   "execution_count": 3,
   "metadata": {},
   "outputs": [
    {
     "name": "stdout",
     "output_type": "stream",
     "text": [
      "foo\n"
     ]
    }
   ],
   "source": [
    "if 'a' in 'bar':\n",
    "    print('foo')\n",
    "elif 1/0:\n",
    "    print(\"this won't happen\")\n",
    "elif var:\n",
    "    print(\"This won't either\")"
   ]
  },
  {
   "cell_type": "markdown",
   "metadata": {},
   "source": [
    "#### One-Line if Statements\n",
    "\n",
    "Biasanya *<expr>* ditulis dalam satu baris dan *<statement>* diindentasi pada baris berikut seperti ini:"
   ]
  },
  {
   "cell_type": "code",
   "execution_count": null,
   "metadata": {},
   "outputs": [],
   "source": [
    "if <expr>:\n",
    "    <statement>"
   ]
  },
  {
   "cell_type": "code",
   "execution_count": 1,
   "metadata": {},
   "outputs": [
    {
     "name": "stdout",
     "output_type": "stream",
     "text": [
      "1\n",
      "2\n",
      "3\n"
     ]
    }
   ],
   "source": [
    "if 'f' in 'foo': print ('1'); print('2'); print('3')"
   ]
  },
  {
   "cell_type": "code",
   "execution_count": 2,
   "metadata": {},
   "outputs": [],
   "source": [
    "if 'z' in 'foo': print ('1'); print('2'); print('3')"
   ]
  },
  {
   "cell_type": "code",
   "execution_count": 4,
   "metadata": {},
   "outputs": [
    {
     "name": "stdout",
     "output_type": "stream",
     "text": [
      "qux\n",
      "quux\n"
     ]
    }
   ],
   "source": [
    "x = 2 \n",
    "\n",
    "if x == 1 : print('foo'); print('bar'); print('baz')\n",
    "elif x == 2 : print('qux'); print('quux')\n",
    "else: print('coorge'); print('grault')"
   ]
  },
  {
   "cell_type": "code",
   "execution_count": 5,
   "metadata": {},
   "outputs": [
    {
     "name": "stdout",
     "output_type": "stream",
     "text": [
      "corge\n",
      "grault\n"
     ]
    }
   ],
   "source": [
    "x = 3\n",
    "\n",
    "if x == 1 : print('foo'); print('bar'); print('baz')\n",
    "elif x == 2 : print('qux'); print('quux')\n",
    "else: print('corge'); print('grault')"
   ]
  },
  {
   "cell_type": "markdown",
   "metadata": {},
   "source": [
    "Meskipun semua ini berfungsi, dan interpreter mengizinkannya, umumnya tidak disarankan karena menyebabkan readability yang buruk, terutama untuk pernyataan if yang kompleks. PEP 8 secara khusus merekomendasikan untuk tidak melakukannya.\n",
    "\n",
    "Seperti biasa, ini masalah selera. Kebanyakan orang akan menganggap hal dibawah ini lebih menarik secara visual dan lebih mudah dipahami pada pandangan pertama daripada contoh di atas:"
   ]
  },
  {
   "cell_type": "code",
   "execution_count": 7,
   "metadata": {},
   "outputs": [
    {
     "name": "stdout",
     "output_type": "stream",
     "text": [
      "corge\n",
      "grault\n"
     ]
    }
   ],
   "source": [
    "x = 3 \n",
    "if x == 1:\n",
    "    print('foo')\n",
    "    print('bar')\n",
    "    print('baz')\n",
    "elif x == 2 :\n",
    "    print('qux')\n",
    "    print('quux')\n",
    "else:\n",
    "    print('corge')\n",
    "    print('grault')"
   ]
  },
  {
   "cell_type": "markdown",
   "metadata": {},
   "source": [
    "#### Conditional Expressions (Python’s Ternary Operator)\n",
    "Python mendukung decision-making tambahan yang disebut conditional expression. (Juga disebut conditional operator atau ternary operator di berbagai Python documentation.) Conditional expressions diusulkan untuk ditambahkan ke bahasa di PEP 308 dan diberi lampu hijau oleh Guido pada tahun 2005.\n",
    "\n",
    "Dalam bentuknya yang paling sederhana, sintaks dari conditional expression adalah sebagai berikut:"
   ]
  },
  {
   "cell_type": "code",
   "execution_count": 1,
   "metadata": {},
   "outputs": [
    {
     "name": "stdout",
     "output_type": "stream",
     "text": [
      "Let's go to the beach\n"
     ]
    }
   ],
   "source": [
    "raining = False\n",
    "print(\"Let's go to the\", 'beach' if not raining else 'library')"
   ]
  },
  {
   "cell_type": "code",
   "execution_count": 2,
   "metadata": {},
   "outputs": [
    {
     "name": "stdout",
     "output_type": "stream",
     "text": [
      "Let's go to the  library\n"
     ]
    }
   ],
   "source": [
    "raining = True\n",
    "print(\"Let's go to the \", 'Beach' if not raining else 'library')"
   ]
  },
  {
   "cell_type": "code",
   "execution_count": 6,
   "metadata": {},
   "outputs": [
    {
     "name": "stdout",
     "output_type": "stream",
     "text": [
      "teen\n"
     ]
    }
   ],
   "source": [
    "age = 12\n",
    "s = 'teen' if age < 21 else 'adult'\n",
    "print(s)"
   ]
  },
  {
   "cell_type": "code",
   "execution_count": 7,
   "metadata": {},
   "outputs": [
    {
     "data": {
      "text/plain": [
       "'no'"
      ]
     },
     "execution_count": 7,
     "metadata": {},
     "output_type": "execute_result"
    }
   ],
   "source": [
    "'yes' if ('qux' in ['foo', 'bar', 'bax']) else 'no'"
   ]
  },
  {
   "cell_type": "code",
   "execution_count": 10,
   "metadata": {},
   "outputs": [],
   "source": [
    "a = True\n",
    "b = not True\n",
    "if a > b:\n",
    "    m = a \n",
    "else:\n",
    "    m = b"
   ]
  },
  {
   "cell_type": "markdown",
   "metadata": {},
   "source": [
    "Ingat bahwa conditional expression berperilaku seperti expression secara syntax. Ini dapat digunakan sebagai bagian dari expression yang lebih panjang. conditional expression memiliki prioritas yang lebih rendah daripada hampir semua operator lain, jadi diperlukan tanda kurung untuk mengelompokkannya sendiri.\n"
   ]
  },
  {
   "cell_type": "markdown",
   "metadata": {},
   "source": [
    "The Python pass Statement\n",
    "Terkadang, kalian mungkin menemukan bahwa kalianingin menulis apa yang disebut code stub: placeholder tempat kalian pada akhirnya akan meletakkan blok kode yang belum kalian terapkan.\n",
    "\n",
    "Pertimbangkan skrip ini foo.py:"
   ]
  },
  {
   "cell_type": "code",
   "execution_count": 11,
   "metadata": {},
   "outputs": [
    {
     "name": "stdout",
     "output_type": "stream",
     "text": [
      "foo\n"
     ]
    }
   ],
   "source": [
    "if True:\n",
    "    print('foo')\n"
   ]
  },
  {
   "cell_type": "markdown",
   "metadata": {},
   "source": [
    "Python pass statement memecahkan masalah ini. Dia tidak mengubah perilaku program sama sekali. Pass digunakan sebagai placeholder untuk membuat interpreter berjalan dalam situasi apa pun di mana pernyataan diperlukan secara sintaksis, tetapi kalian tidak benar-benar ingin melakukan apa pun:"
   ]
  },
  {
   "cell_type": "code",
   "execution_count": 12,
   "metadata": {},
   "outputs": [
    {
     "name": "stdout",
     "output_type": "stream",
     "text": [
      "foo\n"
     ]
    }
   ],
   "source": [
    "if True:\n",
    "    pass\n",
    "\n",
    "print('foo')"
   ]
  },
  {
   "cell_type": "code",
   "execution_count": 13,
   "metadata": {},
   "outputs": [
    {
     "name": "stdout",
     "output_type": "stream",
     "text": [
      "foo\n"
     ]
    }
   ],
   "source": [
    "if True:\n",
    "    pass\n",
    "print('foo')"
   ]
  },
  {
   "cell_type": "code",
   "execution_count": 1,
   "metadata": {},
   "outputs": [
    {
     "name": "stdout",
     "output_type": "stream",
     "text": [
      "4\n",
      "3\n",
      "2\n",
      "1\n",
      "0\n"
     ]
    }
   ],
   "source": [
    "n = 5 \n",
    "while n > 0:\n",
    "    n -= 1\n",
    "    print (n) "
   ]
  },
  {
   "cell_type": "code",
   "execution_count": 14,
   "metadata": {},
   "outputs": [
    {
     "name": "stdout",
     "output_type": "stream",
     "text": [
      "1\n",
      "2\n",
      "3\n",
      "4\n",
      "5\n"
     ]
    }
   ],
   "source": [
    "i = 1 \n",
    "while i < 6:\n",
    "    print(i)\n",
    "    i += 1"
   ]
  },
  {
   "cell_type": "markdown",
   "metadata": {},
   "source": [
    "Inilah yang terjadi dalam contoh diatas:\n",
    "\n",
    "* n adalah 5. Ekspresi dalam while header pada baris 2 adalah n > 0, which is benar, sehingga badan perulangan dieksekusi. Di dalam badan loop pada baris 3, n dikurangi 1 menjadi 4, dan kemudian dicetak ke layar.\n",
    "\n",
    "* Ketika badan loop telah selesai, eksekusi program kembali ke atas loop pada baris 2, dan ekspresi dievaluasi lagi. ekspresinya masih benar, jadi badan dieksekusi lagi, dan 3 dicetak.\n",
    "\n",
    "* Looping berlanjut sampai n menjadi 0. Pada titik itu, ketika ekspresi diuji, dan salah, loop berhenti. Eksekusi akan dilanjutkan pada pernyataan pertama setelah badan loop, tetapi tidak ada satu pun dalam kasus ini."
   ]
  },
  {
   "cell_type": "markdown",
   "metadata": {},
   "source": [
    "#### The Python break and continue Statements"
   ]
  },
  {
   "cell_type": "markdown",
   "metadata": {},
   "source": [
    "Dalam setiap contoh yang telah kalian lihat sejauh ini, seluruh isi while loop dijalankan pada setiap iterasi. Python menyediakan dua keywords yang menghentikan perulangan perulangan sebelum waktunya:"
   ]
  },
  {
   "cell_type": "markdown",
   "metadata": {},
   "source": [
    "* Python break statement segera menghentikan perulangan seluruhnya. Eksekusi program dilanjutkan ke pernyataan pertama setelah badan loop.\n",
    "\n",
    "* Python continue statement segera menghentikan iterasi loop saat dijalankan. Eksekusi melompat ke atas loop, dan controlling expression dievaluasi ulang untuk menentukan apakah loop akan dieksekusi lagi atau dihentikan."
   ]
  },
  {
   "cell_type": "code",
   "execution_count": 5,
   "metadata": {},
   "outputs": [
    {
     "name": "stdout",
     "output_type": "stream",
     "text": [
      "4\n",
      "3\n",
      "Loop Ended.\n"
     ]
    }
   ],
   "source": [
    "n = 5 \n",
    "while n > 0:\n",
    "    n -= 1 \n",
    "    if n == 2:\n",
    "        break # break Statement\n",
    "    print(n)\n",
    "print(\"Loop Ended.\")"
   ]
  },
  {
   "cell_type": "markdown",
   "metadata": {},
   "source": [
    "Ketika n menjadi 2, pernyataan break dieksekusi. Perulangan dihentikan sepenuhnya, dan eksekusi program melompat ke pernyataan print () pada baris 7.\n",
    "\n",
    "Skrip berikutnya, continue, identik dengan break kecuali continue menggantikan jeda:"
   ]
  },
  {
   "cell_type": "code",
   "execution_count": 6,
   "metadata": {},
   "outputs": [
    {
     "name": "stdout",
     "output_type": "stream",
     "text": [
      "4\n",
      "3\n",
      "1\n",
      "0\n",
      "Loop Ended.\n"
     ]
    }
   ],
   "source": [
    "n = 5 \n",
    "while n > 0:\n",
    "    n -= 1 \n",
    "    if n == 2:\n",
    "        continue # continue Statement\n",
    "    print(n)\n",
    "print(\"Loop Ended.\")"
   ]
  },
  {
   "cell_type": "markdown",
   "metadata": {},
   "source": [
    "Kali ini, ketika n adalah 2, pernyataan continue menyebabkan penghentian iterasi. Jadi, 2 tidak dicetak. Eksekusi kembali ke atas loop, kondisi dievaluasi ulang, dan masih benar. Perulangan dilanjutkan, berakhir ketika n menjadi 0, seperti sebelumnya."
   ]
  },
  {
   "cell_type": "markdown",
   "metadata": {},
   "source": [
    "#### The else Clause\n",
    "Python memungkinkan adanya klausa else opsional di akhir loop while. Ini adalah fitur unik Python, tidak ditemukan di sebagian besar bahasa pemrograman lainnya. Sintaksnya ditunjukkan di bawah ini:"
   ]
  },
  {
   "cell_type": "code",
   "execution_count": null,
   "metadata": {},
   "outputs": [],
   "source": [
    "while <expr>:\n",
    "    <statement(s)>\n",
    "else:\n",
    "    <additional_statement(s)>"
   ]
  },
  {
   "cell_type": "markdown",
   "metadata": {},
   "source": [
    "<additional_statement(s)> yang ditentukan di klausa else akan dieksekusi ketika loop sementara berakhir."
   ]
  },
  {
   "cell_type": "code",
   "execution_count": 7,
   "metadata": {},
   "outputs": [
    {
     "name": "stdout",
     "output_type": "stream",
     "text": [
      "4\n",
      "3\n",
      "2\n",
      "1\n",
      "0\n",
      "Loop done.\n"
     ]
    }
   ],
   "source": [
    "n = 5\n",
    "while n > 0:\n",
    "    n -= 1\n",
    "    print(n)\n",
    "else:\n",
    "    print('Loop done.')"
   ]
  },
  {
   "cell_type": "markdown",
   "metadata": {},
   "source": [
    "Dalam kasus ini, loop diulang sampai kondisi habis: n menjadi 0, jadi n> 0 menjadi false. Klausa else dieksekusi. Sekarang amati perbedaannya di sini:"
   ]
  },
  {
   "cell_type": "code",
   "execution_count": 8,
   "metadata": {},
   "outputs": [
    {
     "name": "stdout",
     "output_type": "stream",
     "text": [
      "4\n",
      "3\n",
      "2\n"
     ]
    }
   ],
   "source": [
    "n = 5\n",
    "while n > 0:\n",
    "    n -= 1\n",
    "    print(n)\n",
    "    if n == 2:\n",
    "        break\n",
    "else:\n",
    "    print('Loop Ended.')"
   ]
  },
  {
   "cell_type": "markdown",
   "metadata": {},
   "source": [
    "Loop diatas diakhiri sebelum waktunya dengan break, sehingga klausa else tidak dijalankan."
   ]
  },
  {
   "cell_type": "markdown",
   "metadata": {},
   "source": [
    "#### Infinite Loops\n",
    "Misalkan kalian menulis while loop yang secara teoritis tidak pernah berakhir. Kedengarannya aneh, bukan?\n",
    "\n",
    "Pertimbangkan contoh ini:"
   ]
  },
  {
   "cell_type": "code",
   "execution_count": null,
   "metadata": {},
   "outputs": [],
   "source": [
    "while True:\n",
    "    print('foo') # dont run it makes a infite foo"
   ]
  },
  {
   "cell_type": "markdown",
   "metadata": {},
   "source": [
    "#### Nested while Loops\n",
    "Secara umum, struktur kontrol Python dapat di-nest satu sama lain. Misalnya, if / elif / else bisa di-nest:"
   ]
  },
  {
   "cell_type": "code",
   "execution_count": 17,
   "metadata": {},
   "outputs": [
    {
     "name": "stdout",
     "output_type": "stream",
     "text": [
      "Daughter\n"
     ]
    }
   ],
   "source": [
    "age = 15\n",
    "gender = \"F\"\n",
    "\n",
    "if age < 18:\n",
    "    if gender == \"M\":\n",
    "        print(\"Son\")\n",
    "    else:\n",
    "        print(\"Daughter\")\n",
    "elif age >= 18 and age < 65:\n",
    "    if gender == \"M\":\n",
    "        print(\"Father\")\n",
    "    else:\n",
    "        print(\"Mother\")\n",
    "else:\n",
    "    if gender == \"M\":\n",
    "        print (\"GrandFather\")\n",
    "    else:\n",
    "        print(\"GrandMother\")"
   ]
  },
  {
   "cell_type": "markdown",
   "metadata": {},
   "source": [
    "Demikian pula, loop while dapat dimuat dalam loop while lainnya, seperti yang ditunjukkan di sini:"
   ]
  },
  {
   "cell_type": "code",
   "execution_count": 18,
   "metadata": {},
   "outputs": [
    {
     "name": "stdout",
     "output_type": "stream",
     "text": [
      "foo\n",
      "> baz\n",
      "> qux\n",
      "bar\n",
      "> baz\n",
      "> qux\n"
     ]
    }
   ],
   "source": [
    "a = ['foo', 'bar']\n",
    "\n",
    "while len (a):\n",
    "    print(a.pop(0))\n",
    "\n",
    "    b = ['baz', 'qux']\n",
    "\n",
    "    while len (b):\n",
    "        print(\">\", b.pop(0))"
   ]
  },
  {
   "cell_type": "markdown",
   "metadata": {},
   "source": [
    "Break atau continue statement yang ditemukan dalam nested loop berlaku untuk loop terdekat:"
   ]
  },
  {
   "cell_type": "markdown",
   "metadata": {},
   "source": [
    "while <expr1>:\n",
    "    statement\n",
    "    statement\n",
    "\n",
    "    while <expr2>:\n",
    "        statement\n",
    "        statement\n",
    "        break  # Applies to while <expr2>: loop\n",
    "\n",
    "    break  # Applies to while <expr1>: loop"
   ]
  },
  {
   "cell_type": "markdown",
   "metadata": {},
   "source": [
    "Selain itu, while loop dapat ditempatkan di dalam pernyataan if / elif / else, dan sebaliknya:"
   ]
  },
  {
   "cell_type": "code",
   "execution_count": null,
   "metadata": {},
   "outputs": [],
   "source": [
    "if <expr>:\n",
    "    statement\n",
    "    while <expr>:\n",
    "        statement\n",
    "        statement\n",
    "else:\n",
    "    while <expr>:\n",
    "        statement\n",
    "        statement\n",
    "    statement\n",
    "while <expr>:\n",
    "    if <expr>:\n",
    "        statement\n",
    "    elif <expr>:\n",
    "        statement\n",
    "    else:\n",
    "        statement\n",
    "\n",
    "    if <expr>:\n",
    "        statement"
   ]
  },
  {
   "cell_type": "markdown",
   "metadata": {},
   "source": [
    "#### One-Line while Loops\n",
    "\n",
    "Seperti pernyataan if, loop while dapat ditentukan pada satu baris. Jika ada beberapa pernyataan di blok yang membentuk badan perulangan, pernyataan tersebut dapat dipisahkan dengan titik koma (:):"
   ]
  },
  {
   "cell_type": "code",
   "execution_count": 19,
   "metadata": {},
   "outputs": [
    {
     "name": "stdout",
     "output_type": "stream",
     "text": [
      "4\n",
      "3\n",
      "2\n",
      "1\n",
      "0\n"
     ]
    }
   ],
   "source": [
    "n = 5\n",
    "while n > 0: n -= 1; print(n)"
   ]
  },
  {
   "cell_type": "markdown",
   "metadata": {},
   "source": [
    "### A Survey of Definite Iteration in Programming"
   ]
  },
  {
   "cell_type": "markdown",
   "metadata": {},
   "source": [
    "definite iteration loops sering disebut dengan for loops karena for adalah keyword yang digunakan untuk memperkenalkan definite iteration loops di hampir semua bahasa pemrograman, including Python.\n",
    "\n",
    "Secara historis, bahasa pemrograman telah menawarkan beberapa variasi for loop. Dijelaskan secara singkat di bagian berikut.\n",
    "\n",
    "**Numeric Range Loop**\n",
    "\n",
    "Perulangan for yang paling dasar adalah dengan rentang numerik sederhana dengan nilai awal dan akhir. Format pastinya bervariasi bergantung pada bahasanya tetapi biasanya terlihat seperti ini:"
   ]
  },
  {
   "cell_type": "code",
   "execution_count": null,
   "metadata": {},
   "outputs": [],
   "source": [
    "for i = 1 to 10\n",
    "    <loop body>"
   ]
  },
  {
   "cell_type": "markdown",
   "metadata": {},
   "source": [
    "Di sini, badan perulangan dieksekusi sepuluh kali. Variabel i mengasumsikan nilai 1 pada iterasi pertama, 2 pada iterasi kedua, dan seterusnya. Perulangan for semacam ini digunakan dalam bahasa BASIC, Algol, dan Pascal.\n",
    "\n",
    "Three-Expression Loop\n",
    "\n",
    "Bentuk lain dari for loop yang dipopulerkan oleh bahasa pemrograman C berisi tiga bagian:\n",
    "\n",
    "* An initialization\n",
    "* An expression specifying an ending condition\n",
    "* An action to be performed at the end of each iteration.\n",
    "\n",
    "Jenis ini memiliki bentuk sebagai berikut:"
   ]
  },
  {
   "cell_type": "code",
   "execution_count": null,
   "metadata": {},
   "outputs": [],
   "source": [
    "for (i = 1; i <= 10; i++)\n",
    "    <loop body>"
   ]
  },
  {
   "cell_type": "markdown",
   "metadata": {},
   "source": [
    "Loop ini diartikan sebagai berikut:\n",
    "\n",
    "* Initialize i to 1.\n",
    "* Continue looping as long as i <= 10.\n",
    "* Increment i by 1 after each loop iteration.\n",
    "\n",
    "Three-expression for loops sangat populer karena ekspresi yang ditentukan untuk tiga bagian bisa hampir apa saja, jadi Three-expression for loops memiliki fleksibilitas yang lebih banyak daripada bentuk rentang numerik yang lebih sederhana yang ditunjukkan di atas. Ini untuk loop juga ditampilkan dalam bahasa C ++, Java, PHP, dan Perl.\n",
    "\n",
    "**Collection-Based or Iterator-Based Loop**\n",
    "\n",
    "Jenis perulangan ini mengulang collection of objects, daripada nilai numerik atau kondisi:"
   ]
  },
  {
   "cell_type": "code",
   "execution_count": null,
   "metadata": {},
   "outputs": [],
   "source": [
    "for i in <collection>\n",
    "    <loop body>"
   ]
  },
  {
   "cell_type": "markdown",
   "metadata": {},
   "source": [
    "Setiap kali melalui perulangan, variabel i mengambil nilai dari objek berikutnya di <collection>. Jenis perulangan for ini bisa dibilang yang paling umum dan abstrak. Perl dan PHP juga mendukung jenis pengulangan ini, tetapi diperkenalkan dengan kata kunci foreach.\n",
    "\n",
    "### The Python for Loop\n",
    "Dari jenis loop yang tercantum di atas, Python hanya mengimplementasikan iterasi terakhir: collection-based.\n",
    "\n",
    "Namun untuk saat ini, mari kita mulai dengan prototipe dan contoh singkat, hanya untuk berkenalan.\n",
    "\n",
    "Perulangan for Python terlihat seperti ini:"
   ]
  },
  {
   "cell_type": "code",
   "execution_count": null,
   "metadata": {},
   "outputs": [],
   "source": [
    "for <var> in <iterable>:\n",
    "    <statement(s)>"
   ]
  },
  {
   "cell_type": "markdown",
   "metadata": {},
   "source": [
    "<iterable> adalah kumpulan objek — misalnya, list atau tuple. <statement(s)> di badan loop dilambangkan dengan indentasi, seperti dengan semua struktur kontrol Python, dan dieksekusi sekali untuk setiap item di <iterable>. Variabel loop <var> mengambil nilai elemen berikutnya di <iterable> setiap kali melalui loop.\n",
    "\n",
    "Berikut adalah contoh representatifnya:"
   ]
  },
  {
   "cell_type": "code",
   "execution_count": 20,
   "metadata": {},
   "outputs": [
    {
     "name": "stdout",
     "output_type": "stream",
     "text": [
      "foo\n",
      "bar\n",
      "baz\n"
     ]
    }
   ],
   "source": [
    "a = ['foo', 'bar', 'baz']\n",
    "for i in a:\n",
    "    print(i)"
   ]
  },
  {
   "cell_type": "markdown",
   "metadata": {},
   "source": [
    "Dalam contoh ini, <iterable> adalah lista, dan <var> adalah variabel i. Setiap kali melalui loop, kita mengambil item berturut-turut di a, jadi print () masing-masing menampilkan nilai 'foo', 'bar', dan 'baz'. Perulangan for seperti ini adalah Pythonic way untuk memproses item secara iterable."
   ]
  },
  {
   "cell_type": "code",
   "execution_count": 21,
   "metadata": {},
   "outputs": [
    {
     "name": "stdout",
     "output_type": "stream",
     "text": [
      "foo\n",
      "bar\n",
      "baz\n"
     ]
    }
   ],
   "source": [
    "d = {'foo': 1, 'bar': 2, 'baz': 3}\n",
    "for k in d:\n",
    "    print(k)"
   ]
  },
  {
   "cell_type": "code",
   "execution_count": 22,
   "metadata": {},
   "outputs": [
    {
     "name": "stdout",
     "output_type": "stream",
     "text": [
      "1\n",
      "2\n",
      "3\n"
     ]
    }
   ],
   "source": [
    "for k in d:\n",
    "    print(d[k])"
   ]
  },
  {
   "cell_type": "code",
   "execution_count": 23,
   "metadata": {},
   "outputs": [
    {
     "name": "stdout",
     "output_type": "stream",
     "text": [
      "1\n",
      "2\n",
      "3\n"
     ]
    }
   ],
   "source": [
    "for k in d:\n",
    "    print(d[k])"
   ]
  },
  {
   "cell_type": "code",
   "execution_count": 24,
   "metadata": {},
   "outputs": [
    {
     "name": "stdout",
     "output_type": "stream",
     "text": [
      "foo : 1\n",
      "bar : 2\n",
      "baz : 3\n"
     ]
    }
   ],
   "source": [
    "for k, v in d.items():\n",
    "    print(k, \":\",v)"
   ]
  },
  {
   "cell_type": "markdown",
   "metadata": {},
   "source": [
    "#### Iterating Through a Dictionary\n",
    "What happens when you loop through a dictionary? Let’s see:"
   ]
  },
  {
   "cell_type": "code",
   "execution_count": 25,
   "metadata": {},
   "outputs": [
    {
     "name": "stdout",
     "output_type": "stream",
     "text": [
      "f00\n",
      "bar\n",
      "baz\n"
     ]
    }
   ],
   "source": [
    "d = {'f00': 1, 'bar' : 2, 'baz': 3}\n",
    "for k in d:\n",
    "    print(k)"
   ]
  },
  {
   "cell_type": "markdown",
   "metadata": {},
   "source": [
    "Seperti yang kalian lihat, ketika perulangan for diiterasi melalui dictionary, variabel perulangan ditugaskan ke kunci dictionary.\n",
    "\n",
    "Untuk mengakses nilai dictionary dalam loop, kalian dapat membuat referensi dictionary menggunakan kunci seperti biasa:"
   ]
  },
  {
   "cell_type": "code",
   "execution_count": 26,
   "metadata": {},
   "outputs": [
    {
     "name": "stdout",
     "output_type": "stream",
     "text": [
      "1\n",
      "2\n",
      "3\n"
     ]
    }
   ],
   "source": [
    "for k in d:\n",
    "    print(d[k])"
   ]
  },
  {
   "cell_type": "markdown",
   "metadata": {},
   "source": [
    "Kalian juga dapat beriterasi melalui nilai dictionary secara langsung dengan menggunakan .values ():\n",
    "\n"
   ]
  },
  {
   "cell_type": "code",
   "execution_count": 27,
   "metadata": {},
   "outputs": [
    {
     "name": "stdout",
     "output_type": "stream",
     "text": [
      "1\n",
      "2\n",
      "3\n"
     ]
    }
   ],
   "source": [
    "for v in d.values():\n",
    "    print(v)"
   ]
  },
  {
   "cell_type": "markdown",
   "metadata": {},
   "source": [
    "#### The range() Function\n",
    "Di bagian pertama sesi ini, kalian melihat jenis loop for yang disebut numeric range loop, di mana nilai numerik awal dan akhir ditentukan. Meskipun bentuk perulangan for ini tidak built in dalam Python, namun mudah diibuat.\n",
    "\n",
    "Misalnya, jika kalian ingin mengulang nilai dari 0 hingga 4, kalian cukup melakukan ini:\n",
    "\n"
   ]
  },
  {
   "cell_type": "code",
   "execution_count": 28,
   "metadata": {},
   "outputs": [
    {
     "name": "stdout",
     "output_type": "stream",
     "text": [
      "0\n",
      "1\n",
      "2\n",
      "3\n",
      "4\n"
     ]
    }
   ],
   "source": [
    "for n in (0,1,2,3,4):\n",
    "    print(n)"
   ]
  },
  {
   "cell_type": "markdown",
   "metadata": {},
   "source": [
    "Solusi ini tidak terlalu buruk jika hanya ada beberapa angka. Tetapi jika kisaran angkanya jauh lebih besar, itu akan menyusahkan.\n",
    "\n",
    "Untungnya, Python menyediakan opsi yang lebih baik — fungsi built-in range(), yang mengembalikan iterable yang menghasilkan urutan bilangan bulat.\n",
    "\n",
    "range (<end>) mengembalikan iterable yang menghasilkan integer dimulai dengan 0, hingga <end> tetapi tidak termasuk <end>:"
   ]
  },
  {
   "cell_type": "code",
   "execution_count": 29,
   "metadata": {},
   "outputs": [],
   "source": [
    "x = range(5)"
   ]
  },
  {
   "cell_type": "markdown",
   "metadata": {},
   "source": [
    "Perhatikan bahwa range() mengembalikan objek class range, bukan list atau tuple. Karena objek range adalah iterable, kalian bisa mendapatkan nilainya dengan beriterasi menggunakan for loop:\n",
    "\n"
   ]
  },
  {
   "cell_type": "code",
   "execution_count": 30,
   "metadata": {},
   "outputs": [
    {
     "name": "stdout",
     "output_type": "stream",
     "text": [
      "0\n",
      "1\n",
      "2\n",
      "3\n",
      "4\n"
     ]
    }
   ],
   "source": [
    "for n in x:\n",
    "    print(n)"
   ]
  },
  {
   "cell_type": "markdown",
   "metadata": {},
   "source": [
    "#### Altering for Loop Behavior\n",
    "Kalian telah melihat di bagian sebelumnya dalam sesi ini bagaimana eksekusi while loop dapat diinterupsi dengan pernyataan break and continue dan dimodifikasi dengan klausa else. Kemampuan ini juga tersedia dengan for loop.\n",
    "\n",
    "**The break and continue Statements**\n",
    "\n",
    "break and continue bekerja dengan cara yang sama dengan for loop seperti dengan while loop. break menghentikan loop sepenuhnya dan melanjutkan ke pernyataan pertama setelah loop:"
   ]
  },
  {
   "cell_type": "code",
   "execution_count": 31,
   "metadata": {},
   "outputs": [
    {
     "name": "stdout",
     "output_type": "stream",
     "text": [
      "foo\n"
     ]
    }
   ],
   "source": [
    "for i in ['foo', 'bar', 'baz', 'qux']:\n",
    "    if 'b' in i:\n",
    "        break\n",
    "    print(i) "
   ]
  },
  {
   "cell_type": "code",
   "execution_count": 32,
   "metadata": {},
   "outputs": [
    {
     "name": "stdout",
     "output_type": "stream",
     "text": [
      "foo\n",
      "qux\n"
     ]
    }
   ],
   "source": [
    "for i in ['foo', 'bar', 'baz', 'qux']:\n",
    "    if 'b' in i:\n",
    "        continue\n",
    "    print(i) "
   ]
  },
  {
   "cell_type": "markdown",
   "metadata": {},
   "source": [
    "#### The else Clause\n",
    "\n",
    "Perulangan for juga dapat memiliki klausa else. Interpretasinya sama dengan dengan while loop. Klausa else akan dijalankan jika loop berakhir karena iterable habis:"
   ]
  },
  {
   "cell_type": "code",
   "execution_count": 33,
   "metadata": {},
   "outputs": [
    {
     "name": "stdout",
     "output_type": "stream",
     "text": [
      "foo\n",
      "bar\n",
      "baz\n",
      "qux\n",
      "Done.\n"
     ]
    }
   ],
   "source": [
    "for i in ['foo', 'bar', 'baz', 'qux']:\n",
    "    print(i)\n",
    "else:\n",
    "    print('Done.') # Will Execute"
   ]
  },
  {
   "cell_type": "markdown",
   "metadata": {},
   "source": [
    "Klausa else tidak akan dijalankan jika list berhenti dengan pernyataan break:"
   ]
  },
  {
   "cell_type": "code",
   "execution_count": 35,
   "metadata": {},
   "outputs": [
    {
     "name": "stdout",
     "output_type": "stream",
     "text": [
      "foo\n"
     ]
    }
   ],
   "source": [
    "for i in ['foo', 'bar', 'baz', 'qux']:\n",
    "    if i == 'bar':\n",
    "        break\n",
    "    print(i)\n",
    "else:\n",
    "    print('Done.')"
   ]
  },
  {
   "cell_type": "code",
   "execution_count": null,
   "metadata": {},
   "outputs": [],
   "source": [
    "temp = input(\"Ketikan temperatur yang ingin dikonversi, eg. 45F, 120C: \")\n",
    "degree = int(temp[:-1])\n",
    "i_convertion = temp[-1]\n",
    "\n",
    "if i_convertion == \"C\":\n",
    "    result = int(round((9 * degree) / 5 + 32))\n",
    "elif i_convertion == \"F\":\n",
    "    result = int(round((degree - 32) * 5 / 9))\n",
    "else:\n",
    "    print(\"Masukan input yang benar\")\n",
    "\n",
    "print(\"Temperaturnya adalah\", result, \"derajat\")"
   ]
  },
  {
   "cell_type": "code",
   "execution_count": null,
   "metadata": {},
   "outputs": [],
   "source": [
    "while True:\n",
    "    msg = input(\"Ketikan karakter: \").lower()\n",
    "    print(msg)\n",
    "    if msg == \"stop\":\n",
    "        break"
   ]
  },
  {
   "cell_type": "code",
   "execution_count": null,
   "metadata": {},
   "outputs": [],
   "source": []
  }
 ],
 "metadata": {
  "kernelspec": {
   "display_name": "base",
   "language": "python",
   "name": "python3"
  },
  "language_info": {
   "codemirror_mode": {
    "name": "ipython",
    "version": 3
   },
   "file_extension": ".py",
   "mimetype": "text/x-python",
   "name": "python",
   "nbconvert_exporter": "python",
   "pygments_lexer": "ipython3",
   "version": "3.9.13"
  },
  "orig_nbformat": 4
 },
 "nbformat": 4,
 "nbformat_minor": 2
}
